{
 "cells": [
  {
   "cell_type": "markdown",
   "id": "0b176ee3",
   "metadata": {},
   "source": [
    "# Question 1 :"
   ]
  },
  {
   "cell_type": "code",
   "execution_count": 3,
   "id": "b62d414e",
   "metadata": {},
   "outputs": [
    {
     "name": "stdout",
     "output_type": "stream",
     "text": [
      "enter a : 20\n",
      "enter b : 35\n",
      "enter c : 19\n"
     ]
    },
    {
     "data": {
      "text/plain": [
       "'35'"
      ]
     },
     "execution_count": 3,
     "metadata": {},
     "output_type": "execute_result"
    }
   ],
   "source": [
    "def maximum (a,b,c):\n",
    "    if (a > b) and (a > c):\n",
    "        return(a)\n",
    "    elif (b > a) and (b > c):\n",
    "        return(b)\n",
    "    else :\n",
    "        return(c)\n",
    "A=input('enter a : ')\n",
    "B=input('enter b : ')\n",
    "C=input('enter c : ')    \n",
    "maximum(A,B,C)"
   ]
  },
  {
   "cell_type": "markdown",
   "id": "2d8cdf7c",
   "metadata": {},
   "source": [
    "# Question 2 :"
   ]
  },
  {
   "cell_type": "code",
   "execution_count": 8,
   "id": "9fc57416",
   "metadata": {},
   "outputs": [
    {
     "name": "stdout",
     "output_type": "stream",
     "text": [
      "40\n",
      "10\n"
     ]
    },
    {
     "data": {
      "text/plain": [
       "(50, 30)"
      ]
     },
     "execution_count": 8,
     "metadata": {},
     "output_type": "execute_result"
    }
   ],
   "source": [
    "def calculation(a,b):\n",
    "    add=a+b\n",
    "    sub=a-b\n",
    "    return add,sub\n",
    "A=int(input())\n",
    "B=int(input())\n",
    "calculation (A,B)"
   ]
  },
  {
   "cell_type": "markdown",
   "id": "9d33639e",
   "metadata": {},
   "source": [
    "# Question 2 :"
   ]
  },
  {
   "cell_type": "code",
   "execution_count": 13,
   "id": "559acb3a",
   "metadata": {},
   "outputs": [
    {
     "name": "stdout",
     "output_type": "stream",
     "text": [
      "7\n",
      "3\n"
     ]
    }
   ],
   "source": [
    "liste = [1,2,3,4]\n",
    "\n",
    "def sum(list):\n",
    "    s=1\n",
    "    for i in list :\n",
    "        s=s*i\n",
    "    return(s) \n",
    "sum(n)\n",
    "\n",
    "\n",
    "def add(list):\n",
    "    s=1\n",
    "    for i in list :\n",
    "        s=s+i\n",
    "    return(s) \n",
    "add(n)\n",
    "\n",
    "\n",
    "even=list()\n",
    "odd=list()\n",
    "for i in range(len(liste)):\n",
    "    if i%2==0:\n",
    "        i= even.append(liste[i])\n",
    "    \n",
    "    else:\n",
    "        i= odd.append(liste[i])\n",
    "add(odd)\n",
    "print(add(odd))\n",
    "sum(even)     \n",
    "print(sum(even))"
   ]
  },
  {
   "cell_type": "markdown",
   "id": "5d085c3d",
   "metadata": {},
   "source": [
    "# Question 4 :"
   ]
  },
  {
   "cell_type": "code",
   "execution_count": 30,
   "id": "0aab46b6",
   "metadata": {},
   "outputs": [
    {
     "name": "stdout",
     "output_type": "stream",
     "text": [
      "enter your list :green-red-yellow-black-white\n",
      "green-red-yellow-black-white\n"
     ]
    }
   ],
   "source": [
    "n=input('enter your list :')\n",
    "list=n.split('-')\n",
    "list.sort()\n",
    "\n",
    "x='-'.join(list)\n",
    "print(x) "
   ]
  },
  {
   "cell_type": "markdown",
   "id": "5dd15eeb",
   "metadata": {},
   "source": [
    "# Question 5 :"
   ]
  },
  {
   "cell_type": "code",
   "execution_count": 29,
   "id": "fdc8a0b3",
   "metadata": {},
   "outputs": [
    {
     "name": "stdout",
     "output_type": "stream",
     "text": [
      "100,150,180\n",
      "[18, 22, 24]\n"
     ]
    }
   ],
   "source": [
    "txt=input()\n",
    "import math\n",
    "\n",
    "X = 50\n",
    "H = 30\n",
    "list = txt.split(',')\n",
    "n=[]\n",
    "\n",
    "for D in list:\n",
    "    n.append(round(math.sqrt((2*X*float(D))/H) ))\n",
    "print(n)    "
   ]
  },
  {
   "cell_type": "code",
   "execution_count": null,
   "id": "324ff84a",
   "metadata": {},
   "outputs": [],
   "source": []
  },
  {
   "cell_type": "code",
   "execution_count": null,
   "id": "bdee4eb5",
   "metadata": {},
   "outputs": [],
   "source": []
  },
  {
   "cell_type": "code",
   "execution_count": null,
   "id": "14e01200",
   "metadata": {},
   "outputs": [],
   "source": []
  }
 ],
 "metadata": {
  "kernelspec": {
   "display_name": "Python 3 (ipykernel)",
   "language": "python",
   "name": "python3"
  },
  "language_info": {
   "codemirror_mode": {
    "name": "ipython",
    "version": 3
   },
   "file_extension": ".py",
   "mimetype": "text/x-python",
   "name": "python",
   "nbconvert_exporter": "python",
   "pygments_lexer": "ipython3",
   "version": "3.9.7"
  }
 },
 "nbformat": 4,
 "nbformat_minor": 5
}
